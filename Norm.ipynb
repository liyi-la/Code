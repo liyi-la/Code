{
 "cells": [
  {
   "cell_type": "code",
   "execution_count": 2,
   "metadata": {},
   "outputs": [
    {
     "name": "stdout",
     "output_type": "stream",
     "text": [
      "tensor([[ 0.1806, -1.3203,  1.3125, -0.6420]])\n",
      "tensor([[ 0.1826, -1.3353,  1.3274, -0.6493]], grad_fn=<MulBackward0>)\n",
      "tensor([[ 0.3034, -1.2253,  1.4563, -0.5344]], grad_fn=<AddBackward0>)\n"
     ]
    }
   ],
   "source": [
    "import torch\n",
    "import torch.nn as nn\n",
    "\n",
    "\n",
    "class RMSNorm(nn.Module):\n",
    "    def __init__(self, dim, eps=1e-6):\n",
    "        super().__init__()\n",
    "        self.eps = eps\n",
    "        self.weight = nn.Parameter(torch.ones(dim))\n",
    "\n",
    "    def forward(self, x):\n",
    "        norm_x = torch.norm(x, dim=-1, keepdim=True)\n",
    "        rms_x = norm_x * x.size(-1) ** (-0.5)\n",
    "        x_normed = x / (rms_x + self.eps)\n",
    "        return self.weight * x_normed\n",
    "\n",
    "\n",
    "class LayerNorm(nn.Module):\n",
    "    def __init__(self, normalized_shape, eps=1e-5):\n",
    "        super().__init__()\n",
    "        self.weight = nn.Parameter(torch.ones(normalized_shape))\n",
    "        self.bias = nn.Parameter(torch.zeros(normalized_shape))\n",
    "        self.eps = eps\n",
    "\n",
    "    def forward(self, x):\n",
    "        mean = x.mean(-1, keepdim=True)\n",
    "        var = x.var(-1, unbiased=False, keepdim=True)\n",
    "        x_normed = (x - mean) / torch.sqrt(var + self.eps)\n",
    "        return self.weight * x_normed + self.bias\n",
    "\n",
    "rms_norm = RMSNorm(4)\n",
    "layer_norm = LayerNorm(4)\n",
    "x = torch.randn(1,4)\n",
    "print(x)\n",
    "print(rms_norm(x))\n",
    "print(layer_norm(x))"
   ]
  },
  {
   "cell_type": "code",
   "execution_count": null,
   "metadata": {},
   "outputs": [],
   "source": []
  }
 ],
 "metadata": {
  "kernelspec": {
   "display_name": "pytorch",
   "language": "python",
   "name": "python3"
  },
  "language_info": {
   "codemirror_mode": {
    "name": "ipython",
    "version": 3
   },
   "file_extension": ".py",
   "mimetype": "text/x-python",
   "name": "python",
   "nbconvert_exporter": "python",
   "pygments_lexer": "ipython3",
   "version": "3.8.18"
  }
 },
 "nbformat": 4,
 "nbformat_minor": 2
}
