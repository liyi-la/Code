{
 "cells": [
  {
   "cell_type": "markdown",
   "metadata": {},
   "source": [
    "### Numpy 实现 MLP"
   ]
  },
  {
   "cell_type": "code",
   "execution_count": 3,
   "metadata": {},
   "outputs": [
    {
     "name": "stdout",
     "output_type": "stream",
     "text": [
      "[[0.39031813 0.02598348]]\n",
      "[[0.         0.         0.00400329]]\n"
     ]
    }
   ],
   "source": [
    "import numpy as np\n",
    "\n",
    "class Linear:\n",
    "    def __init__(self, input_size, output_size, act, lr = 0.1):\n",
    "        self.W = np.random.normal(scale = 0.01, size=(input_size, output_size))\n",
    "        self.b =np.zeros((1, output_size))\n",
    "        self.act = act\n",
    "        self.lr = lr\n",
    "    def forward(self, x):\n",
    "        x = np.dot(x, self.W) + self.b\n",
    "        if self.act == \"relu\":\n",
    "            x = np. maximum(x, 0)\n",
    "        if self.act == \"sigmoid\":\n",
    "            x = 1/(1+np.exp(-x))\n",
    "        return x\n",
    "    def backward(self, x):\n",
    "        if self.act == \"relu\":\n",
    "            if(x < 0):\n",
    "                grad = 0\n",
    "            else:\n",
    "                grad = 1\n",
    "            dout =  grad\n",
    "        if self.act == \"sigmoid\":\n",
    "            grad = x * (1 - x)\n",
    "            dout = grad\n",
    "        grad_W = np.dot(x.T, dout) ##两步梯度：dout为激活函数部分的，x为对W求导部分的\n",
    "        grad_b = np.sum(dout, axis=0, keepdims=True)\n",
    "        \n",
    "        self.W = self.W - self.lr * grad_W\n",
    "        self.b = self.b - self.lr * grad_b\n",
    "        \n",
    "        \n",
    "lay1 = Linear(2, 3, \"relu\")\n",
    "x = np.random.rand(1, 2)\n",
    "y = lay1.forward(x)\n",
    "print(x)\n",
    "print(y)"
   ]
  }
 ],
 "metadata": {
  "kernelspec": {
   "display_name": "pytorch",
   "language": "python",
   "name": "python3"
  },
  "language_info": {
   "codemirror_mode": {
    "name": "ipython",
    "version": 3
   },
   "file_extension": ".py",
   "mimetype": "text/x-python",
   "name": "python",
   "nbconvert_exporter": "python",
   "pygments_lexer": "ipython3",
   "version": "3.8.18"
  }
 },
 "nbformat": 4,
 "nbformat_minor": 2
}
