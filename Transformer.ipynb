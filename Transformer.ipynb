{
 "cells": [
  {
   "cell_type": "code",
   "execution_count": null,
   "metadata": {},
   "outputs": [],
   "source": [
    "import torch\n",
    "import torch.nn as nn\n",
    "import math\n",
    "import numpy as np\n",
    "device = torch.device(\"cuda:0\" if torch.cuda.is_available() else \"cpu\")\n",
    "class PE(nn.Module):\n",
    "    def __init__(self,d_model,max_len=5000,dropout=0.1):\n",
    "        super(PE,self).__init__()\n",
    "        self.dmodel=d_model\n",
    "        self.droupout = nn.Dropout(dropout)\n",
    "        pe = torch.zeros(max_len,d_model)\n",
    "        for pos in range(max_len):\n",
    "            for i in range(0,d_model,2):\n",
    "                pe[pos,i]=math.sin(pos/(10000**(i/d_model)))\n",
    "                pe[pos,i+1]=math.cos(pos/10000**(i/d_model))\n",
    "\n",
    "        self.pe=torch.FloatTensor(pe).to(device)\n",
    "        self.register_buffer('pe',pe)#注册一个不需要训练的变量，但是会加入模型的state_dict中，可以保存和加载模型\n",
    "    def forward(self,x):\n",
    "        x = x + self.pe[:,:x.size(1)]#加上位置编码所有行的前x.size(1)个位置\n",
    "        return self.droupout(x.to(device))"
   ]
  },
  {
   "cell_type": "code",
   "execution_count": null,
   "metadata": {},
   "outputs": [],
   "source": [
    "d_model = 512\n",
    "d_ff = 2048\n",
    "n_heads = 8\n",
    "d_v = d_k = d_model//n_heads\n",
    "\n",
    "class scaled_dot_product_attention(nn.Module):\n",
    "    def __init__(self):\n",
    "        super(scaled_dot_product_attention, self).__init__()                # Q: [batch_size, n_heads, len_q, d_k]\n",
    "                                                      # K: [batch_size, n_heads, len_k, d_k]\n",
    "    def forward(self,Q,K,V,attn_mask):                                      # V: [batch_size, n_heads, len_v(=len_k), d_v]\n",
    "        scores = torch.matmul(Q,K.transpose(-1,-2)/np.sqrt(d_k))       # attn_mask: [batch_size, n_heads, seq_len, seq_len]\n",
    "        scores.masked_fill_(attn_mask, -1e9)#注意力掩码，标记为true的位置为极小值         # scores : [batch_size, n_heads, len_q, len_k]\n",
    "        attn = nn.Softmax(dim=-1)(scores)\n",
    "        context = torch.matmul(attn,V)                                       # context: [batch_size, n_heads, len_q, d_v]\n",
    "        return context, attn\n",
    "\n",
    "class MHA(nn.Module):\n",
    "    def __init__(self):\n",
    "        super(MHA,self).__init__()\n",
    "        self.W_Q = nn.Linear(d_model,d_k*n_heads,bias=False)\n",
    "        self.W_K = nn.Linear(d_model,d_k*n_heads,bias=False)\n",
    "        self.W_V = nn.Linear(d_model,d_v*n_heads,bias=False)\n",
    "        self.fc = nn.Linear(n_heads*d_v,d_model,bias=False)\n",
    "        \n",
    "    def forward(self,input_Q,input_K,input_V,attn_mask):\n",
    "        residual, batch_size = input_Q, input_Q.size(0)\n",
    "        Q = self.W_Q(input_Q).view(batch_size,-1,n_heads,d_k).transpose(1,2)\n",
    "        K = self.W_K(input_K).view(batch_size,-1,n_heads,d_k).transpose(1,2)\n",
    "        V = self.W_V(input_V).view(batch_size,-1,n_heads,d_v).transpose(1,2)\n",
    "        attn_mask = attn_mask.unsqueeze(1).repeat(1,n_heads,1,1)\n",
    "        context, attn = scaled_dot_product_attention()(Q,K,V,attn_mask)\n",
    "        context = context.transpose(1,2).reshape(batch_size, -1,n_heads*d_v)\n",
    "        output = self.fc(context)\n",
    "        \n",
    "        return nn.LayerNorm(d_model).cuda()(output+residual),attn\n",
    "    #context 是多头注意力机制的核心输出，被用于后续的计算和更新模型的状态，以捕捉输入序列中的上下文信息和依赖关系。\n",
    "    #attn 是注意力权重，主要用于解释模型的行为和提供额外的分析信息，虽然它不直接参与模型的训练和预测，但对于模型的理解和调试非常有价值。"
   ]
  },
  {
   "cell_type": "code",
   "execution_count": 1,
   "metadata": {},
   "outputs": [
    {
     "name": "stderr",
     "output_type": "stream",
     "text": [
      "c:\\Users\\10298\\AppData\\Local\\anaconda3\\envs\\pytorch\\lib\\site-packages\\tqdm\\auto.py:21: TqdmWarning: IProgress not found. Please update jupyter and ipywidgets. See https://ipywidgets.readthedocs.io/en/stable/user_install.html\n",
      "  from .autonotebook import tqdm as notebook_tqdm\n"
     ]
    },
    {
     "data": {
      "text/plain": [
       "(5, 5)"
      ]
     },
     "execution_count": 1,
     "metadata": {},
     "output_type": "execute_result"
    }
   ],
   "source": [
    "import math\n",
    "import torch\n",
    "import numpy as np\n",
    "import torch.nn as nn\n",
    "import torch.optim as optim\n",
    "import torch.utils.data as Data\n",
    "\n",
    "#自制数据集\n",
    "             # Encoder_input    Decoder_input        Decoder_output\n",
    "sentences = [['我 是 学 生 P' , 'S I am a student'   , 'I am a student E'],         # S: 开始符号\n",
    "             ['我 喜 欢 学 习', 'S I like learning P', 'I like learning P E'],      # E: 结束符号\n",
    "             ['我 是 男 生 P' , 'S I am a boy'       , 'I am a boy E']]             # P: 占位符号，如果当前句子不足固定长度用P占位 pad补0\n",
    "\n",
    "\n",
    "src_vocab = {'P':0, '我':1, '是':2, '学':3, '生':4, '喜':5, '欢':6,'习':7,'男':8}   # 词源字典  字：索引\n",
    "src_idx2word = {src_vocab[key]: key for key in src_vocab}\n",
    "src_vocab_size = len(src_vocab)                 # 字典字的个数\n",
    "\n",
    "tgt_vocab = {'S':0, 'E':1, 'P':2, 'I':3, 'am':4, 'a':5, 'student':6, 'like':7, 'learning':8, 'boy':9}\n",
    "idx2word = {tgt_vocab[key]: key for key in tgt_vocab}                               # 把目标字典转换成 索引：字的形式\n",
    "tgt_vocab_size = len(tgt_vocab)                                                     # 目标字典尺寸\n",
    "\n",
    "src_len = len(sentences[0][0].split(\" \"))                                           # Encoder输入的最大长度 5\n",
    "tgt_len = len(sentences[0][1].split(\" \"))                                           # Decoder输入输出最大长度 5\n",
    "src_len,tgt_len\n"
   ]
  },
  {
   "cell_type": "code",
   "execution_count": null,
   "metadata": {},
   "outputs": [
    {
     "name": "stdout",
     "output_type": "stream",
     "text": [
      "torch.Size([3, 5])\n",
      "tensor([[0, 3, 4, 5, 6],\n",
      "        [0, 3, 7, 8, 2],\n",
      "        [0, 3, 4, 5, 9]])\n",
      "tensor([[3, 4, 5, 6, 1],\n",
      "        [3, 7, 8, 2, 1],\n",
      "        [3, 4, 5, 9, 1]])\n"
     ]
    }
   ],
   "source": [
    "# 把sentences 转换成字典索引\n",
    "def make_data(sentences):\n",
    "    enc_inputs, dec_inputs, dec_outputs = [], [], []\n",
    "    for i in range(len(sentences)):\n",
    "      enc_input = [[src_vocab[n] for n in sentences[i][0].split()]] \n",
    "      dec_input = [[tgt_vocab[n] for n in sentences[i][1].split()]] \n",
    "      dec_output = [[tgt_vocab[n] for n in sentences[i][2].split()]] \n",
    "      enc_inputs.extend(enc_input)\n",
    "      dec_inputs.extend(dec_input)\n",
    "      dec_outputs.extend(dec_output)\n",
    "    return torch.LongTensor(enc_inputs), torch.LongTensor(dec_inputs), torch.LongTensor(dec_outputs)\n",
    "enc_inputs, dec_inputs, dec_outputs = make_data(sentences)#每个shape都是[3，5],代表seq嗯_len为5\n",
    "print(enc_inputs.shape)\n",
    "print(dec_inputs)\n",
    "print(dec_outputs)\n"
   ]
  },
  {
   "cell_type": "code",
   "execution_count": null,
   "metadata": {},
   "outputs": [
    {
     "name": "stdout",
     "output_type": "stream",
     "text": [
      "tensor([[1, 2, 3, 4, 0],\n",
      "        [1, 5, 6, 3, 7]])\n",
      "tensor([[1, 2, 8, 4, 0]])\n"
     ]
    }
   ],
   "source": [
    "#自定义数据集函数\n",
    "class MyDataSet(Data.Dataset):\n",
    "  def __init__(self, enc_inputs, dec_inputs, dec_outputs):\n",
    "    super(MyDataSet, self).__init__()\n",
    "    self.enc_inputs = enc_inputs\n",
    "    self.dec_inputs = dec_inputs\n",
    "    self.dec_outputs = dec_outputs\n",
    "  \n",
    "  def __len__(self):\n",
    "    return self.enc_inputs.shape[0]\n",
    "  \n",
    "  def __getitem__(self, idx):\n",
    "    return self.enc_inputs[idx], self.dec_inputs[idx], self.dec_outputs[idx]\n",
    "\n",
    "loader = Data.DataLoader(MyDataSet(enc_inputs, dec_inputs, dec_outputs), 2, False) \n",
    "d_model = 512   # 字 Embedding 的维度\n",
    "d_ff = 2048     # 前向传播隐藏层维度\n",
    "d_k = d_v = 64  # K(=Q), V的维度 \n",
    "n_layers = 6    # 有多少个encoder和decoder\n",
    "n_heads = 8     # Multi-Head Attention设置为8\n"
   ]
  },
  {
   "cell_type": "code",
   "execution_count": null,
   "metadata": {},
   "outputs": [],
   "source": [
    "class PositionalEncoding(nn.Module):\n",
    "    def __init__(self,d_model,dropout=0.1,max_len=5000):\n",
    "        super(PositionalEncoding,self).__init__()\n",
    "        self.dropout = nn.Dropout(p=dropout)\n",
    "        pos_table = np.array([\n",
    "        [pos / np.power(10000, 2 * i / d_model) for i in range(d_model)]\n",
    "        if pos != 0 else np.zeros(d_model) for pos in range(max_len)])\n",
    "        pos_table[1:, 0::2] = np.sin(pos_table[1:, 0::2])                  # 字嵌入维度为偶数时\n",
    "        pos_table[1:, 1::2] = np.cos(pos_table[1:, 1::2])                  # 字嵌入维度为奇数时\n",
    "        self.pos_table = torch.FloatTensor(pos_table).cuda()               # enc_inputs: [seq_len, d_model]\n",
    "    def forward(self,enc_inputs):                                         # enc_inputs: [batch_size, seq_len, d_model]\n",
    "        enc_inputs += self.pos_table[:enc_inputs.size(1),:]\n",
    "        return self.dropout(enc_inputs.cuda())\n",
    "\n",
    "def get_attn_pad_mask(seq_q,seq_k):#Mask句子中没有实际意义的占位符，例如’我 是 学 生 P’ ，P对应句子没有实际意义，所以需要被Mask，Encoder_input 和Decoder_input占位符都需要被Mask。\n",
    "    batch_size, len_q = seq_q.size()# seq_q 用于升维，为了做attention，mask score矩阵用的\n",
    "    batch_size, len_k = seq_k.size()\n",
    "    pad_attn_mask = seq_k.data.eq(0).unsqueeze(1) # 判断 输入那些含有P(=0),用1标记 ,[batch_size, 1, len_k]\n",
    "    return pad_attn_mask.expand(batch_size,len_q,len_k) # 扩展成多维度   [batch_size, len_q, len_k]\n",
    "\n",
    "\n",
    "def get_attn_subsequence_mask(seq):                               # seq: [batch_size, tgt_len]\n",
    "    attn_shape = [seq.size(0), seq.size(1), seq.size(1)]          # 生成上三角矩阵,[batch_size, tgt_len, tgt_len]\n",
    "    subsequence_mask = np.triu(np.ones(attn_shape), k=1)\n",
    "    subsequence_mask = torch.from_numpy(subsequence_mask).byte()  #  [batch_size, tgt_len, tgt_len]\n",
    "    return subsequence_mask\n"
   ]
  },
  {
   "cell_type": "code",
   "execution_count": null,
   "metadata": {},
   "outputs": [],
   "source": [
    "class ScaledDotProductAttention(nn.Module):\n",
    "    def __init__(self):\n",
    "        super(ScaledDotProductAttention, self).__init__()\n",
    "\n",
    "    def forward(self, Q, K, V, attn_mask):                             # Q: [batch_size, n_heads, len_q, d_k]\n",
    "                                                                       # K: [batch_size, n_heads, len_k, d_k]\n",
    "                                                                       # V: [batch_size, n_heads, len_v(=len_k), d_v]\n",
    "                                                                       # attn_mask: [batch_size, n_heads, seq_len, seq_len]\n",
    "        scores = torch.matmul(Q, K.transpose(-1, -2)) / np.sqrt(d_k)   # scores : [batch_size, n_heads, len_q, len_k]\n",
    "        scores.masked_fill_(attn_mask, -1e9)                           # 如果是停用词P就等于 0 \n",
    "        attn = nn.Softmax(dim=-1)(scores)\n",
    "        context = torch.matmul(attn, V)                                # [batch_size, n_heads, len_q, d_v]\n",
    "        return context, attn\n",
    "\n",
    "\n",
    "class MultiHeadAttention(nn.Module):\n",
    "    def __init__(self):\n",
    "        super(MultiHeadAttention, self).__init__()\n",
    "        self.W_Q = nn.Linear(d_model, d_k * n_heads, bias=False)\n",
    "        self.W_K = nn.Linear(d_model, d_k * n_heads, bias=False)\n",
    "        self.W_V = nn.Linear(d_model, d_v * n_heads, bias=False)\n",
    "        self.fc = nn.Linear(n_heads * d_v, d_model, bias=False)\n",
    "        \n",
    "    def forward(self, input_Q, input_K, input_V, attn_mask):    # input_Q: [batch_size, len_q, d_model],这里的input_Q、input_K、input_V都是一样的，是句子Embedding+位置编码后的结果\n",
    "                                                                # input_K: [batch_size, len_k, d_model]\n",
    "                                                                # input_V: [batch_size, len_v(=len_k), d_model]\n",
    "                                                                # attn_mask: [batch_size, seq_len, seq_len]\n",
    "        residual, batch_size = input_Q, input_Q.size(0)\n",
    "        Q = self.W_Q(input_Q).view(batch_size, -1, n_heads, d_k).transpose(1,2)  # Q: [batch_size, n_heads, len_q, d_k]\n",
    "        K = self.W_K(input_K).view(batch_size, -1, n_heads, d_k).transpose(1,2)  # K: [batch_size, n_heads, len_k, d_k]\n",
    "        V = self.W_V(input_V).view(batch_size, -1, n_heads, d_v).transpose(1,2)  # V: [batch_size, n_heads, len_v(=len_k), d_v]\n",
    "        attn_mask = attn_mask.unsqueeze(1).repeat(1, n_heads, 1, 1)              # attn_mask : [batch_size, n_heads, seq_len, seq_len]\n",
    "        context, attn = ScaledDotProductAttention()(Q, K, V, attn_mask)          # context: [batch_size, n_heads, len_q, d_v]\n",
    "                                                                                 # attn: [batch_size, n_heads, len_q, len_k]\n",
    "        context = context.transpose(1, 2).reshape(batch_size, -1, n_heads * d_v) # context: [batch_size, len_q, n_heads * d_v]\n",
    "        output = self.fc(context)                                                # [batch_size, len_q, d_model]\n",
    "        return nn.LayerNorm(d_model).cuda()(output + residual), attn\n",
    "    \n",
    "class PoswiseFeedForwardNet(nn.Module):\n",
    "    def __init__(self):\n",
    "        super(PoswiseFeedForwardNet, self).__init__()\n",
    "        self.fc = nn.Sequential(\n",
    "            nn.Linear(d_model, d_ff, bias=False),\n",
    "            nn.ReLU(),\n",
    "            nn.Linear(d_ff, d_model, bias=False))\n",
    "        \n",
    "    def forward(self, inputs):                             # inputs: [batch_size, seq_len, d_model]\n",
    "        residual = inputs\n",
    "        output = self.fc(inputs)\n",
    "        return nn.LayerNorm(d_model).cuda()(output + residual)   # [batch_size, seq_len, d_model]  \n",
    "\n",
    "class EncoderLayer(nn.Module):\n",
    "    def __init__(self):\n",
    "        super(EncoderLayer, self).__init__()\n",
    "        self.enc_self_attn = MultiHeadAttention()                                     # 多头注意力机制\n",
    "        self.pos_ffn = PoswiseFeedForwardNet()                                        # 前馈神经网络\n",
    "\n",
    "    def forward(self, enc_inputs, enc_self_attn_mask):                                # enc_inputs: [batch_size, src_len, d_model]\n",
    "        #输入3个enc_inputs分别与W_q、W_k、W_v相乘得到Q、K、V                          # enc_self_attn_mask: [batch_size, src_len, src_len]\n",
    "        enc_outputs, attn = self.enc_self_attn(enc_inputs, enc_inputs, enc_inputs,    # enc_outputs: [batch_size, src_len, d_model], \n",
    "                                               enc_self_attn_mask)                    # attn: [batch_size, n_heads, src_len, src_len]                                                                   \n",
    "        enc_outputs = self.pos_ffn(enc_outputs)                                       # enc_outputs: [batch_size, src_len, d_model]\n",
    "        return enc_outputs, attn\n",
    "    \n",
    "class Encoder(nn.Module):\n",
    "    def __init__(self):\n",
    "        super(Encoder, self).__init__()\n",
    "        self.src_emb = nn.Embedding(src_vocab_size, d_model)#src_vocab_size 为字典中文字的个数，中文字为9\n",
    "        self.pos_emb = PositionalEncoding(d_model)\n",
    "        self.layers = nn.ModuleList([EncoderLayer() for _ in range(n_layers)])\n",
    "\n",
    "    def forward(self, enc_inputs):\n",
    "        '''\n",
    "        enc_inputs: [batch_size, src_len]\n",
    "        '''\n",
    "        enc_outputs = self.src_emb(enc_inputs) # [batch_size, src_len, d_model]，根据字典上 的字的个数进行embedding\n",
    "        enc_outputs = self.pos_emb(enc_outputs.transpose(0, 1)).transpose(0, 1) # [batch_size, src_len, d_model]\n",
    "        enc_self_attn_mask = get_attn_pad_mask(enc_inputs, enc_inputs) # [batch_size, src_len, src_len]\n",
    "        enc_self_attns = []\n",
    "        for layer in self.layers:\n",
    "            # enc_outputs: [batch_size, src_len, d_model], enc_self_attn: [batch_size, n_heads, src_len, src_len]\n",
    "            enc_outputs, enc_self_attn = layer(enc_outputs, enc_self_attn_mask)\n",
    "            enc_self_attns.append(enc_self_attn)\n",
    "        return enc_outputs, enc_self_attns\n",
    "\n"
   ]
  },
  {
   "cell_type": "code",
   "execution_count": 1,
   "metadata": {},
   "outputs": [
    {
     "ename": "NameError",
     "evalue": "name 'src_vocab_size' is not defined",
     "output_type": "error",
     "traceback": [
      "\u001b[1;31m---------------------------------------------------------------------------\u001b[0m",
      "\u001b[1;31mNameError\u001b[0m                                 Traceback (most recent call last)",
      "Cell \u001b[1;32mIn[1], line 1\u001b[0m\n\u001b[1;32m----> 1\u001b[0m \u001b[43msrc_vocab_size\u001b[49m\n",
      "\u001b[1;31mNameError\u001b[0m: name 'src_vocab_size' is not defined"
     ]
    }
   ],
   "source": [
    "src_vocab_size"
   ]
  }
 ],
 "metadata": {
  "kernelspec": {
   "display_name": "pytorch",
   "language": "python",
   "name": "python3"
  },
  "language_info": {
   "codemirror_mode": {
    "name": "ipython",
    "version": 3
   },
   "file_extension": ".py",
   "mimetype": "text/x-python",
   "name": "python",
   "nbconvert_exporter": "python",
   "pygments_lexer": "ipython3",
   "version": "3.8.18"
  }
 },
 "nbformat": 4,
 "nbformat_minor": 2
}
